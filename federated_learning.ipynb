{
  "nbformat": 4,
  "nbformat_minor": 0,
  "metadata": {
    "colab": {
      "provenance": [],
      "gpuType": "T4",
      "toc_visible": true,
      "authorship_tag": "ABX9TyOCZa9rsuju7oLFdBlyeljg",
      "include_colab_link": true
    },
    "kernelspec": {
      "name": "python3",
      "display_name": "Python 3"
    },
    "language_info": {
      "name": "python"
    },
    "accelerator": "GPU"
  },
  "cells": [
    {
      "cell_type": "markdown",
      "metadata": {
        "id": "view-in-github",
        "colab_type": "text"
      },
      "source": [
        "<a href=\"https://colab.research.google.com/github/bibekpaudyal1/Clustering_FLearning_VNetwork_Project/blob/main/federated_learning.ipynb\" target=\"_parent\"><img src=\"https://colab.research.google.com/assets/colab-badge.svg\" alt=\"Open In Colab\"/></a>"
      ]
    },
    {
      "cell_type": "code",
      "source": [
        "!pip install tensorflow\n"
      ],
      "metadata": {
        "colab": {
          "base_uri": "https://localhost:8080/"
        },
        "id": "RcbHaw9I2tP7",
        "outputId": "307818ab-d6aa-4207-810e-725e9beccf68"
      },
      "execution_count": null,
      "outputs": [
        {
          "output_type": "stream",
          "name": "stdout",
          "text": [
            "Requirement already satisfied: tensorflow in /usr/local/lib/python3.10/dist-packages (2.15.0)\n",
            "Requirement already satisfied: absl-py>=1.0.0 in /usr/local/lib/python3.10/dist-packages (from tensorflow) (1.4.0)\n",
            "Requirement already satisfied: astunparse>=1.6.0 in /usr/local/lib/python3.10/dist-packages (from tensorflow) (1.6.3)\n",
            "Requirement already satisfied: flatbuffers>=23.5.26 in /usr/local/lib/python3.10/dist-packages (from tensorflow) (24.3.7)\n",
            "Requirement already satisfied: gast!=0.5.0,!=0.5.1,!=0.5.2,>=0.2.1 in /usr/local/lib/python3.10/dist-packages (from tensorflow) (0.5.4)\n",
            "Requirement already satisfied: google-pasta>=0.1.1 in /usr/local/lib/python3.10/dist-packages (from tensorflow) (0.2.0)\n",
            "Requirement already satisfied: h5py>=2.9.0 in /usr/local/lib/python3.10/dist-packages (from tensorflow) (3.9.0)\n",
            "Requirement already satisfied: libclang>=13.0.0 in /usr/local/lib/python3.10/dist-packages (from tensorflow) (18.1.1)\n",
            "Requirement already satisfied: ml-dtypes~=0.2.0 in /usr/local/lib/python3.10/dist-packages (from tensorflow) (0.2.0)\n",
            "Requirement already satisfied: numpy<2.0.0,>=1.23.5 in /usr/local/lib/python3.10/dist-packages (from tensorflow) (1.25.2)\n",
            "Requirement already satisfied: opt-einsum>=2.3.2 in /usr/local/lib/python3.10/dist-packages (from tensorflow) (3.3.0)\n",
            "Requirement already satisfied: packaging in /usr/local/lib/python3.10/dist-packages (from tensorflow) (24.0)\n",
            "Requirement already satisfied: protobuf!=4.21.0,!=4.21.1,!=4.21.2,!=4.21.3,!=4.21.4,!=4.21.5,<5.0.0dev,>=3.20.3 in /usr/local/lib/python3.10/dist-packages (from tensorflow) (3.20.3)\n",
            "Requirement already satisfied: setuptools in /usr/local/lib/python3.10/dist-packages (from tensorflow) (67.7.2)\n",
            "Requirement already satisfied: six>=1.12.0 in /usr/local/lib/python3.10/dist-packages (from tensorflow) (1.16.0)\n",
            "Requirement already satisfied: termcolor>=1.1.0 in /usr/local/lib/python3.10/dist-packages (from tensorflow) (2.4.0)\n",
            "Requirement already satisfied: typing-extensions>=3.6.6 in /usr/local/lib/python3.10/dist-packages (from tensorflow) (4.10.0)\n",
            "Requirement already satisfied: wrapt<1.15,>=1.11.0 in /usr/local/lib/python3.10/dist-packages (from tensorflow) (1.14.1)\n",
            "Requirement already satisfied: tensorflow-io-gcs-filesystem>=0.23.1 in /usr/local/lib/python3.10/dist-packages (from tensorflow) (0.36.0)\n",
            "Requirement already satisfied: grpcio<2.0,>=1.24.3 in /usr/local/lib/python3.10/dist-packages (from tensorflow) (1.62.1)\n",
            "Requirement already satisfied: tensorboard<2.16,>=2.15 in /usr/local/lib/python3.10/dist-packages (from tensorflow) (2.15.2)\n",
            "Requirement already satisfied: tensorflow-estimator<2.16,>=2.15.0 in /usr/local/lib/python3.10/dist-packages (from tensorflow) (2.15.0)\n",
            "Requirement already satisfied: keras<2.16,>=2.15.0 in /usr/local/lib/python3.10/dist-packages (from tensorflow) (2.15.0)\n",
            "Requirement already satisfied: wheel<1.0,>=0.23.0 in /usr/local/lib/python3.10/dist-packages (from astunparse>=1.6.0->tensorflow) (0.43.0)\n",
            "Requirement already satisfied: google-auth<3,>=1.6.3 in /usr/local/lib/python3.10/dist-packages (from tensorboard<2.16,>=2.15->tensorflow) (2.27.0)\n",
            "Requirement already satisfied: google-auth-oauthlib<2,>=0.5 in /usr/local/lib/python3.10/dist-packages (from tensorboard<2.16,>=2.15->tensorflow) (1.2.0)\n",
            "Requirement already satisfied: markdown>=2.6.8 in /usr/local/lib/python3.10/dist-packages (from tensorboard<2.16,>=2.15->tensorflow) (3.6)\n",
            "Requirement already satisfied: requests<3,>=2.21.0 in /usr/local/lib/python3.10/dist-packages (from tensorboard<2.16,>=2.15->tensorflow) (2.31.0)\n",
            "Requirement already satisfied: tensorboard-data-server<0.8.0,>=0.7.0 in /usr/local/lib/python3.10/dist-packages (from tensorboard<2.16,>=2.15->tensorflow) (0.7.2)\n",
            "Requirement already satisfied: werkzeug>=1.0.1 in /usr/local/lib/python3.10/dist-packages (from tensorboard<2.16,>=2.15->tensorflow) (3.0.1)\n",
            "Requirement already satisfied: cachetools<6.0,>=2.0.0 in /usr/local/lib/python3.10/dist-packages (from google-auth<3,>=1.6.3->tensorboard<2.16,>=2.15->tensorflow) (5.3.3)\n",
            "Requirement already satisfied: pyasn1-modules>=0.2.1 in /usr/local/lib/python3.10/dist-packages (from google-auth<3,>=1.6.3->tensorboard<2.16,>=2.15->tensorflow) (0.3.0)\n",
            "Requirement already satisfied: rsa<5,>=3.1.4 in /usr/local/lib/python3.10/dist-packages (from google-auth<3,>=1.6.3->tensorboard<2.16,>=2.15->tensorflow) (4.9)\n",
            "Requirement already satisfied: requests-oauthlib>=0.7.0 in /usr/local/lib/python3.10/dist-packages (from google-auth-oauthlib<2,>=0.5->tensorboard<2.16,>=2.15->tensorflow) (1.4.0)\n",
            "Requirement already satisfied: charset-normalizer<4,>=2 in /usr/local/lib/python3.10/dist-packages (from requests<3,>=2.21.0->tensorboard<2.16,>=2.15->tensorflow) (3.3.2)\n",
            "Requirement already satisfied: idna<4,>=2.5 in /usr/local/lib/python3.10/dist-packages (from requests<3,>=2.21.0->tensorboard<2.16,>=2.15->tensorflow) (3.6)\n",
            "Requirement already satisfied: urllib3<3,>=1.21.1 in /usr/local/lib/python3.10/dist-packages (from requests<3,>=2.21.0->tensorboard<2.16,>=2.15->tensorflow) (2.0.7)\n",
            "Requirement already satisfied: certifi>=2017.4.17 in /usr/local/lib/python3.10/dist-packages (from requests<3,>=2.21.0->tensorboard<2.16,>=2.15->tensorflow) (2024.2.2)\n",
            "Requirement already satisfied: MarkupSafe>=2.1.1 in /usr/local/lib/python3.10/dist-packages (from werkzeug>=1.0.1->tensorboard<2.16,>=2.15->tensorflow) (2.1.5)\n",
            "Requirement already satisfied: pyasn1<0.6.0,>=0.4.6 in /usr/local/lib/python3.10/dist-packages (from pyasn1-modules>=0.2.1->google-auth<3,>=1.6.3->tensorboard<2.16,>=2.15->tensorflow) (0.5.1)\n",
            "Requirement already satisfied: oauthlib>=3.0.0 in /usr/local/lib/python3.10/dist-packages (from requests-oauthlib>=0.7.0->google-auth-oauthlib<2,>=0.5->tensorboard<2.16,>=2.15->tensorflow) (3.2.2)\n"
          ]
        }
      ]
    },
    {
      "cell_type": "code",
      "source": [
        "import xml.etree.ElementTree as ET\n",
        "import pandas as pd\n",
        "import numpy as np\n",
        "from sklearn.preprocessing import StandardScaler\n",
        "from sklearn.model_selection import train_test_split\n",
        "import xgboost as xgb\n",
        "from sklearn.metrics import mean_squared_error\n",
        "\n",
        "# Parse the XML data\n",
        "tree = ET.parse('emissionOut.xml')\n",
        "root = tree.getroot()\n",
        "\n",
        "# Define lists to store data\n",
        "data = {\n",
        "    'time': [],\n",
        "    'id': [],\n",
        "    'eclass': [],\n",
        "    'CO2': [],\n",
        "    'CO': [],\n",
        "    'HC': [],\n",
        "    'NOx': [],\n",
        "    'PMx': [],\n",
        "    'fuel': [],\n",
        "    'electricity': [],\n",
        "    'noise': [],\n",
        "    'route': [],\n",
        "    'type': [],\n",
        "    'waiting': [],\n",
        "    'lane': [],\n",
        "    'pos': [],\n",
        "    'speed': [],\n",
        "    'angle': [],\n",
        "    'x': [],\n",
        "    'y': []\n",
        "}\n",
        "\n",
        "# Extract data from XML and populate lists\n",
        "for timestep in root:\n",
        "    time = timestep.attrib['time']\n",
        "    for vehicle in timestep:\n",
        "        data['time'].append(time)\n",
        "        data['id'].append(vehicle.attrib['id'])\n",
        "        data['eclass'].append(vehicle.attrib['eclass'])\n",
        "        data['CO2'].append(float(vehicle.attrib['CO2']))\n",
        "        data['CO'].append(float(vehicle.attrib['CO']))\n",
        "        data['HC'].append(float(vehicle.attrib['HC']))\n",
        "        data['NOx'].append(float(vehicle.attrib['NOx']))\n",
        "        data['PMx'].append(float(vehicle.attrib['PMx']))\n",
        "        data['fuel'].append(float(vehicle.attrib['fuel']))\n",
        "        data['electricity'].append(float(vehicle.attrib['electricity']))\n",
        "        data['noise'].append(float(vehicle.attrib['noise']))\n",
        "        data['route'].append(vehicle.attrib['route'])\n",
        "        data['type'].append(vehicle.attrib['type'])\n",
        "        data['waiting'].append(float(vehicle.attrib['waiting']))\n",
        "        data['lane'].append(vehicle.attrib['lane'])\n",
        "        data['pos'].append(float(vehicle.attrib['pos']))\n",
        "        data['speed'].append(float(vehicle.attrib['speed']))\n",
        "        data['angle'].append(float(vehicle.attrib['angle']))\n",
        "        data['x'].append(float(vehicle.attrib['x']))\n",
        "        data['y'].append(float(vehicle.attrib['y']))\n",
        "\n",
        "df = pd.DataFrame(data)\n",
        "\n",
        "df.dropna(inplace=True)\n",
        "\n",
        "# Feature selection\n",
        "selected_features = ['CO2', 'CO', 'HC', 'NOx', 'PMx','speed']\n",
        "X = df[selected_features]\n",
        "#target\n",
        "y = df['fuel']\n",
        "\n",
        "\n",
        "scalerX = StandardScaler()\n",
        "X_scaled = scalerX.fit_transform(X)\n",
        "\n",
        "x_train, x_test, y_train, y_test = train_test_split(X_scaled, y, test_size=0.2, random_state=42)\n",
        "\n",
        "\n",
        "\n",
        "def federated_learning(subset_X, subset_y):\n",
        "    model = xgb.XGBRegressor()\n",
        "    model.fit(subset_X, subset_y)\n",
        "    return model\n",
        "\n",
        "\n",
        "subset_size = len(x_train) // 3\n",
        "federated_models = []\n",
        "for i in range(0, len(x_train), subset_size):\n",
        "    subset_X = x_train[i:i+subset_size]\n",
        "    subset_y = y_train[i:i+subset_size]\n",
        "    model = federated_learning(subset_X, subset_y)\n",
        "    federated_models.append(model)\n",
        "\n",
        "# Evaluate each federated model\n",
        "print(\"RMSE of federated models:\")\n",
        "rmse_scores = []\n",
        "for idx, model in enumerate(federated_models):\n",
        "    y_pred = model.predict(x_test)\n",
        "    mse = mean_squared_error(y_test, y_pred)\n",
        "    rmse = np.sqrt(mse)\n",
        "    rmse_scores.append(rmse)\n",
        "    print(f\"Model {idx + 1}: {rmse}\")\n",
        "\n",
        "# Calculate average RMSE of federated models\n",
        "avg_rmse_federated = np.mean(rmse_scores)\n",
        "\n",
        "# Train a global model on the whole dataset\n",
        "global_model = xgb.XGBRegressor()\n",
        "global_model.fit(x_train, y_train)\n",
        "y_pred_global = global_model.predict(x_test)\n",
        "mse_global = mean_squared_error(y_test, y_pred_global)\n",
        "rmse_global = np.sqrt(mse_global)\n",
        "\n",
        "print(\"\\nAverage RMSE of federated models:\", avg_rmse_federated)\n",
        "print(\"RMSE of the global model:\", rmse_global)\n"
      ],
      "metadata": {
        "colab": {
          "base_uri": "https://localhost:8080/"
        },
        "id": "ULRbfyawuo7s",
        "outputId": "87a9c8b3-9972-4411-82f7-afb4580ff7c6"
      },
      "execution_count": null,
      "outputs": [
        {
          "output_type": "stream",
          "name": "stdout",
          "text": [
            "RMSE of federated models:\n",
            "Model 1: 31.45577266001291\n",
            "Model 2: 18.244440219391787\n",
            "Model 3: 23.47979683879943\n",
            "Model 4: 659.8860493294914\n",
            "\n",
            "Average RMSE of federated models: 183.26651476192387\n",
            "RMSE of the global model: 23.46016774998053\n"
          ]
        }
      ]
    },
    {
      "cell_type": "code",
      "source": [],
      "metadata": {
        "id": "sxyuapahbIWt"
      },
      "execution_count": null,
      "outputs": []
    },
    {
      "cell_type": "code",
      "source": [
        "import matplotlib.pyplot as plt\n",
        "\n",
        "model_labels = [f\"Federated Model {idx + 1}\" for idx in range(len(federated_models))]\n",
        "model_labels.append(\"Global Model\")\n",
        "\n",
        "rmse_values = rmse_scores + [rmse_global]\n",
        "\n",
        "# Plotting\n",
        "plt.figure(figsize=(10, 6))\n",
        "plt.bar(model_labels, rmse_values, color=['blue'] * len(federated_models) + ['green'])\n",
        "plt.xlabel('Model')\n",
        "plt.ylabel('RMSE')\n",
        "plt.title('Comparison of RMSE between Federated and Global Models')\n",
        "plt.xticks(rotation=45)\n",
        "plt.show()\n"
      ],
      "metadata": {
        "colab": {
          "base_uri": "https://localhost:8080/",
          "height": 533
        },
        "id": "oy7u_sqzyIUi",
        "outputId": "c5e54522-2304-487f-b025-f2b53254d35c"
      },
      "execution_count": null,
      "outputs": [
        {
          "output_type": "display_data",
          "data": {
            "text/plain": [
              "<Figure size 1000x600 with 1 Axes>"
            ],
            "image/png": "[encoded data removed]"
          },
          "metadata": {}
        }
      ]
    }
  ]
}